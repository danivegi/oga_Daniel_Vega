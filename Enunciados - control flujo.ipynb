{
 "cells": [
  {
   "cell_type": "markdown",
   "metadata": {},
   "source": [
    "# Tema 03: Control de flujo (Enunciados)\n",
    "*Nota: Estos ejercicios son optativos para hacer al final de la unidad y están pensados para apoyar tu aprendizaje*."
   ]
  },
  {
   "cell_type": "markdown",
   "metadata": {},
   "source": [
    "**1) Realiza un programa que lea dos números por teclado y permita elegir entre 3 opciones en un menú:** \n",
    "* Mostrar una suma de los dos números\n",
    "* Mostrar una resta de los dos números (el primero menos el segundo)\n",
    "* Mostrar una multiplicación de los dos números\n",
    "* En caso de no introducir una opción válida, el programa informará de que no es correcta."
   ]
  },
  {
   "cell_type": "code",
   "execution_count": 26,
   "metadata": {},
   "outputs": [
    {
     "name": "stdin",
     "output_type": "stream",
     "text": [
      "Introduzca un número:  3\n",
      "Introduzca un segundo número:  2\n"
     ]
    },
    {
     "name": "stdout",
     "output_type": "stream",
     "text": [
      "1. Mostrar suma\n",
      "2. Mostrar la resta del primer número menos el segundo\n",
      "3. Mostrar multiplicación\n"
     ]
    },
    {
     "name": "stdin",
     "output_type": "stream",
     "text": [
      "Elija una opción introduciendo el número correspondiente:  0\n"
     ]
    },
    {
     "name": "stdout",
     "output_type": "stream",
     "text": [
      "Opción incorrecta, porfavor, introduzca un número entre 1 y 3\n"
     ]
    }
   ],
   "source": [
    "num1 = int(input(\"Introduzca un número: \"))\n",
    "num2 = int(input(\"Introduzca un segundo número: \"))\n",
    "\n",
    "print(\"1. Mostrar suma\")\n",
    "print(\"2. Mostrar la resta del primer número menos el segundo\")\n",
    "print(\"3. Mostrar multiplicación\")\n",
    "opcion = int(input(\"Elija una opción introduciendo el número correspondiente: \"))\n",
    "\n",
    "if opcion == 1:\n",
    "    print (num1 + num2)\n",
    "elif opcion == 2:\n",
    "    print (num1 - num2)\n",
    "elif opcion == 3:\n",
    "    print (num1 * num2)\n",
    "else:\n",
    "    print (\"Opción incorrecta, porfavor, introduzca un número entre 1 y 3\")"
   ]
  },
  {
   "cell_type": "markdown",
   "metadata": {},
   "source": [
    "**2) Realiza un programa que lea un número impar por teclado. Si el usuario no introduce un número impar, debe repetise el proceso hasta que lo introduzca correctamente.**"
   ]
  },
  {
   "cell_type": "code",
   "execution_count": 5,
   "metadata": {},
   "outputs": [
    {
     "name": "stdin",
     "output_type": "stream",
     "text": [
      "Introduzca un número:  4\n"
     ]
    },
    {
     "name": "stdout",
     "output_type": "stream",
     "text": [
      "El número es par\n"
     ]
    },
    {
     "name": "stdin",
     "output_type": "stream",
     "text": [
      "Introduzca un número:  2\n"
     ]
    },
    {
     "name": "stdout",
     "output_type": "stream",
     "text": [
      "El número es par\n"
     ]
    },
    {
     "name": "stdin",
     "output_type": "stream",
     "text": [
      "Introduzca un número:  6\n"
     ]
    },
    {
     "name": "stdout",
     "output_type": "stream",
     "text": [
      "El número es par\n"
     ]
    },
    {
     "name": "stdin",
     "output_type": "stream",
     "text": [
      "Introduzca un número:  5\n"
     ]
    },
    {
     "name": "stdout",
     "output_type": "stream",
     "text": [
      "El número es impar\n"
     ]
    }
   ],
   "source": [
    "par = True\n",
    "while par == True:\n",
    "    num = int(input(\"Introduzca un número: \"))\n",
    "    if num % 2 == 0:\n",
    "        print(\"El número es par\")\n",
    "    else:\n",
    "        print(\"El número es impar\")\n",
    "        par = False"
   ]
  },
  {
   "cell_type": "markdown",
   "metadata": {},
   "source": [
    "**3) Realiza un programa que sume todos los números enteros pares desde el 0 hasta el 100:**\n",
    "\n",
    "*Sugerencia: Puedes utilizar la funciones sum() y range() para hacerlo más fácil. El tercer parámetro en la función range(inicio, fin, salto) indica un salto de números, pruébalo.*"
   ]
  },
  {
   "cell_type": "code",
   "execution_count": 8,
   "metadata": {},
   "outputs": [
    {
     "name": "stdout",
     "output_type": "stream",
     "text": [
      "La suma de todos los pares de 0 a 100 es: 2550\n"
     ]
    }
   ],
   "source": [
    "acu = 0\n",
    "for i in range(1,101):\n",
    "    if i % 2 == 0:\n",
    "        acu += i\n",
    "\n",
    "print(\"La suma de todos los pares de 0 a 100 es:\", acu)"
   ]
  },
  {
   "cell_type": "markdown",
   "metadata": {},
   "source": [
    "**4) Realiza un programa que pida al usuario cuantos números quiere introducir. Luego lee todos los números y realiza una media aritmética:**\n"
   ]
  },
  {
   "cell_type": "code",
   "execution_count": 11,
   "metadata": {},
   "outputs": [
    {
     "name": "stdin",
     "output_type": "stream",
     "text": [
      "¿Cuántos números desea introducir? 2\n",
      "Introduzca un número:  3\n",
      "Introduzca un número:  6\n"
     ]
    },
    {
     "name": "stdout",
     "output_type": "stream",
     "text": [
      "La media de todos los números introducidos es: 4.5\n"
     ]
    }
   ],
   "source": [
    "cant = int(input(\"¿Cuántos números desea introducir?\"))\n",
    "sumaTotal = 0\n",
    "for i in range(cant):\n",
    "    num = int(input(\"Introduzca un número: \"))\n",
    "    sumaTotal += num\n",
    "\n",
    "media = (sumaTotal / cant)\n",
    "print(\"La media de todos los números introducidos es:\", media)"
   ]
  },
  {
   "cell_type": "markdown",
   "metadata": {},
   "source": [
    "**5) Realiza un programa que pida al usuario un número entero del 0 al 9, y que mientras el número no sea correcto se repita el proceso. Luego debe comprobar si el número se encuentra en la lista de números y notificarlo:**\n",
    "\n",
    "*Consejo: La sintaxis \"valor in lista\" permite comprobar fácilmente si un valor se encuentra en una lista (devuelve True o False)*"
   ]
  },
  {
   "cell_type": "code",
   "execution_count": 12,
   "metadata": {},
   "outputs": [
    {
     "name": "stdin",
     "output_type": "stream",
     "text": [
      "Introduzca un numero entre el 0-9 3\n"
     ]
    },
    {
     "name": "stdout",
     "output_type": "stream",
     "text": [
      "El 3 esta en la lista\n"
     ]
    }
   ],
   "source": [
    "lista = [0,1,2,3,4,5,6,7,8,9]\n",
    "num =- 1\n",
    "while num not in lista:\n",
    "    num = int(input(\"Introduzca un numero entre el 0-9\"))\n",
    "    if num in lista:\n",
    "        print(f\"El {num} esta en la lista\")\n",
    "    else:\n",
    "        print(f\"El {num} no esta en la lista\")"
   ]
  },
  {
   "cell_type": "markdown",
   "metadata": {},
   "source": [
    "**6) Utilizando la función range() y la conversión a listas genera las siguientes listas dinámicamente:**\n",
    "* Todos los números del 0 al 10 [0, 1, 2, ..., 10]\n",
    "* Todos los números del -10 al 0 [-10, -9, -8, ..., 0]\n",
    "* Todos los números pares del 0 al 20 [0, 2, 4, ..., 20]\n",
    "* Todos los números impares entre -20 y 0 [-19, -17, -15, ..., -1]\n",
    "* Todos los números múltiples de 5 del 0 al 50 [0, 5, 10, ..., 50]\n",
    "\n",
    "*Pista: Utiliza el tercer parámetro de la función range(inicio, fin, salto).*"
   ]
  },
  {
   "cell_type": "code",
   "execution_count": 16,
   "metadata": {},
   "outputs": [
    {
     "name": "stdout",
     "output_type": "stream",
     "text": [
      "Todos los números del 0 al 10: [0, 1, 2, 3, 4, 5, 6, 7, 8, 9, 10]\n",
      "Todos los números del -10 al 0: [-10, -9, -8, -7, -6, -5, -4, -3, -2, -1, 0]\n",
      "Todos los números pares del 0 al 20: [0, 2, 4, 6, 8, 10, 12, 14, 16, 18, 20]\n",
      "Todos los números impares entre -20 y 0: [-19, -17, -15, -13, -11, -9, -7, -5, -3, -1]\n",
      "Todos los números múltiples de 5 del 0 al 50: [0, 5, 10, 15, 20, 25, 30, 35, 40, 45, 50]\n"
     ]
    }
   ],
   "source": [
    "print(\"Todos los números del 0 al 10:\", list(range(0,11)))\n",
    "print(\"Todos los números del -10 al 0:\", list(range(-10,1,1)))\n",
    "print(\"Todos los números pares del 0 al 20:\", list(range(0,21,2)))\n",
    "print(\"Todos los números impares entre -20 y 0:\", list(range(-19,1,2)))\n",
    "print(\"Todos los números múltiples de 5 del 0 al 50:\", list(range(0,51,5)))"
   ]
  },
  {
   "cell_type": "code",
   "execution_count": null,
   "metadata": {},
   "outputs": [],
   "source": [
    "print(list(range(0,11)))#---Todos los números del 0 al 10\n",
    "print(list(range(-10,1,1)))#---Todos los números del -10 al 0\n",
    "print(list(range(0,21,2)))#---Todos los números pares del 0 al 20\n",
    "print(list(range(-19,1,2)))#---Todos los números impares entre -20 y 0\n",
    "print(list(range(0,51,5)))#---Todos los números múltiples de 5 del 0 al 50"
   ]
  },
  {
   "cell_type": "markdown",
   "metadata": {},
   "source": [
    "**7) Dadas dos listas, debes generar una tercera con todos los elementos que se repitan en ellas, pero no debe repetise ningún elemento en la nueva lista:**"
   ]
  },
  {
   "cell_type": "code",
   "execution_count": 30,
   "metadata": {},
   "outputs": [
    {
     "name": "stdout",
     "output_type": "stream",
     "text": [
      "Los elementos comunes entre las dos listas son: [4, 5]\n"
     ]
    }
   ],
   "source": [
    "list1 = [1, 2, 3, 4, 5]\n",
    "list2 = [4, 5, 6, 7, 8]\n",
    "numeros_comunes = list(set(list1) & set(list2))\n",
    "print(f\"Los elementos comunes entre las dos listas son: {numeros_comunes}\")"
   ]
  }
 ],
 "metadata": {
  "anaconda-cloud": {},
  "kernelspec": {
   "display_name": "Python 3 (ipykernel)",
   "language": "python",
   "name": "python3"
  },
  "language_info": {
   "codemirror_mode": {
    "name": "ipython",
    "version": 3
   },
   "file_extension": ".py",
   "mimetype": "text/x-python",
   "name": "python",
   "nbconvert_exporter": "python",
   "pygments_lexer": "ipython3",
   "version": "3.12.8"
  }
 },
 "nbformat": 4,
 "nbformat_minor": 4
}
