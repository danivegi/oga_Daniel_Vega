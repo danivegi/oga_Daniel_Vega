{
 "cells": [
  {
   "cell_type": "markdown",
   "metadata": {},
   "source": [
    "# Tema 06: Programación de funciones (Enunciados)\n",
    "*Nota: Estos ejercicios son optativos para hacer al final de la unidad y están pensados para apoyar tu aprendizaje*."
   ]
  },
  {
   "cell_type": "markdown",
   "metadata": {},
   "source": [
    "**1) Realiza una función llamada area_rectangulo() que devuelva el área del rectangulo a partir de una base y una altura. Calcula el área de un rectángulo de 15 de base y 10 de altura.**\n",
    "\n",
    "*Nota: El área de un rectángulo se obtiene al multiplicar la base por la altura.*"
   ]
  },
  {
   "cell_type": "code",
   "execution_count": 5,
   "metadata": {},
   "outputs": [
    {
     "name": "stdout",
     "output_type": "stream",
     "text": [
      "El área del rectángulo es: 150\n"
     ]
    }
   ],
   "source": [
    "base = 15\n",
    "altura = 10\n",
    "area_rectangulo(base, altura)\n",
    "\n",
    "def area_rectangulo(altura, base):\n",
    "    area = base * altura\n",
    "    print(\"El área del rectángulo es:\", area)"
   ]
  },
  {
   "cell_type": "markdown",
   "metadata": {},
   "source": [
    "**2) Realiza una función llamada area_circulo() que devuelva el área de un círculo a partir de un radio. Calcula el área de un círculo de 5 de radio: **\n",
    "\n",
    "Nota: El área de un círculo se obtiene al elevar el radio a dos y multiplicando el resultado por el número pi. Puedes utilizar el valor 3.14159 como pi o importarlo del módulo math:\n",
    "```python\n",
    "import math\n",
    "print(math.pi)\n",
    "> 3.1415...\n",
    "```"
   ]
  },
  {
   "cell_type": "code",
   "execution_count": 13,
   "metadata": {},
   "outputs": [
    {
     "name": "stdout",
     "output_type": "stream",
     "text": [
      "El área del círculo es: 78.53981633974483\n"
     ]
    }
   ],
   "source": [
    "import math\n",
    "def area_circulo(radio):\n",
    "    area = radio * radio * math.pi\n",
    "    print(\"El área del círculo es:\", area)\n",
    "area_circulo(5)"
   ]
  },
  {
   "cell_type": "markdown",
   "metadata": {},
   "source": [
    "**3) Realiza una función llamada relacion() que a partir de dos números cumpla lo siguiente**:\n",
    "\n",
    "* Si el primer número es mayor que el segundo, debe devolver 1.\n",
    "* Si el primer número es menor que el segundo, debe devolver -1.\n",
    "* Si ambos números son iguales, debe devolver un 0.\n",
    "\n",
    "** Comprueba la relación entre los números: '5 y 10', '10 y 5' y '5 y 5'**"
   ]
  },
  {
   "cell_type": "code",
   "execution_count": 15,
   "metadata": {},
   "outputs": [
    {
     "name": "stdout",
     "output_type": "stream",
     "text": [
      "Relación entre 5 y 10: -1\n",
      "Relación entre 10 y 5: 1\n",
      "Relación entre 5 y 5: 0\n"
     ]
    }
   ],
   "source": [
    "def relacion(num1, num2):\n",
    "    if num1 > num2:\n",
    "        return 1\n",
    "    elif num1 < num2:\n",
    "        return -1\n",
    "    else:\n",
    "        return 0\n",
    "\n",
    "print(f\"Relación entre 5 y 10: {relacion(5, 10)}\")\n",
    "print(f\"Relación entre 10 y 5: {relacion(10, 5)}\")\n",
    "print(f\"Relación entre 5 y 5: {relacion(5, 5)}\")"
   ]
  },
  {
   "cell_type": "markdown",
   "metadata": {},
   "source": [
    "**4) Realiza una función llamada intermedio() que a partir de dos números, devuelva su punto intermedio:**\n",
    "\n",
    "*Nota: El número intermedio de dos números corresponde a la suma de los dos números dividida entre 2*\n",
    "\n",
    "** Comprueba el punto intermedio entre -12 y 24**"
   ]
  },
  {
   "cell_type": "code",
   "execution_count": 16,
   "metadata": {},
   "outputs": [
    {
     "data": {
      "text/plain": [
       "6.0"
      ]
     },
     "execution_count": 16,
     "metadata": {},
     "output_type": "execute_result"
    }
   ],
   "source": [
    "def intermedio(num1, num2):\n",
    "    return (num1 + num2) / 2\n",
    "\n",
    "resultado = intermedio(-12, 24)\n",
    "print(f\"El punto intermedio entre -12 y 24 es: {resultado}\")"
   ]
  },
  {
   "cell_type": "markdown",
   "metadata": {},
   "source": [
    "**5) Realiza una función llamada recortar() que reciba tres parámetros. El primero es el número a recortar, el segundo es el límite inferior y el tercero el límite superior. La función tendrá que cumplir lo siguiente:**\n",
    "\n",
    "* Devolver el límite inferior si el número es menor que éste\n",
    "* Devolver el límite superior si el número es mayor que éste.\n",
    "* Devolver el número sin cambios si no se supera ningún límite.\n",
    "\n",
    "** Comprueba el resultado de recortar 15 entre los límites 0 y 10**"
   ]
  },
  {
   "cell_type": "code",
   "execution_count": 16,
   "metadata": {},
   "outputs": [
    {
     "name": "stdout",
     "output_type": "stream",
     "text": [
      "El resultado de recortar 15 entre los límites 0 y 10 es: 10\n"
     ]
    }
   ],
   "source": [
    "def recortar(num, lim_inf, lim_sup):\n",
    "    if num < lim_inf:\n",
    "        return lim_inf\n",
    "    elif num > lim_sup:\n",
    "        return lim_sup\n",
    "    else:\n",
    "        return num\n",
    "\n",
    "resultado = recortar(15, 0, 10)\n",
    "print(f\"El resultado de recortar 15 entre los límites 0 y 10 es: {resultado}\")"
   ]
  },
  {
   "cell_type": "markdown",
   "metadata": {},
   "source": [
    "**6) Realiza una función separar() que tome una lista de números enteros y devuelva dos listas ordenadas. La primera con los números pares, y la segunda con los números impares:**\n",
    "\n",
    "Por ejemplo: \n",
    "\n",
    "```python\n",
    "pares, impares = separar([6,5,2,1,7])\n",
    "print(pares)   # valdría [2, 6]\n",
    "print(impares)  # valdría [1, 5, 7]\n",
    "\n",
    "```\n",
    "\n",
    "*Nota: Para ordenar una lista automáticamente puedes usar el método .sort().*"
   ]
  },
  {
   "cell_type": "code",
   "execution_count": 3,
   "metadata": {},
   "outputs": [
    {
     "name": "stdout",
     "output_type": "stream",
     "text": [
      "Los números pares: [-12, 20, 84]\n",
      "Los números impares: [-33, 9, 13, 101]\n"
     ]
    }
   ],
   "source": [
    "def separar(lista):\n",
    "    par = [num for num in lista if num % 2 == 0]\n",
    "    impar = [num for num in lista if num % 2 != 0]\n",
    "    par.sort()\n",
    "    impar.sort()\n",
    "    return par, impar\n",
    "\n",
    "numeros = [-12, 84, 13, 20, -33, 101, 9]\n",
    "par, impar = separar(numeros)\n",
    "print(\"Los números pares son:\", par)\n",
    "print(\"Los números impares son:\", impar)"
   ]
  },
  {
   "cell_type": "code",
   "execution_count": null,
   "metadata": {},
   "outputs": [],
   "source": []
  }
 ],
 "metadata": {
  "anaconda-cloud": {},
  "kernelspec": {
   "display_name": "Python 3 (ipykernel)",
   "language": "python",
   "name": "python3"
  },
  "language_info": {
   "codemirror_mode": {
    "name": "ipython",
    "version": 3
   },
   "file_extension": ".py",
   "mimetype": "text/x-python",
   "name": "python",
   "nbconvert_exporter": "python",
   "pygments_lexer": "ipython3",
   "version": "3.12.8"
  }
 },
 "nbformat": 4,
 "nbformat_minor": 4
}
